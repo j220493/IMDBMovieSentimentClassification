{
 "cells": [
  {
   "cell_type": "code",
   "execution_count": 61,
   "id": "0c69988c",
   "metadata": {},
   "outputs": [],
   "source": [
    "# Importing libraries\n",
    "import pandas as pd\n",
    "import numpy as np\n",
    "import tensorflow\n",
    "from tensorflow import keras\n",
    "import matplotlib.pyplot as plt\n",
    "from sklearn.metrics import classification_report"
   ]
  },
  {
   "cell_type": "code",
   "execution_count": 11,
   "id": "c37dea07",
   "metadata": {},
   "outputs": [
    {
     "name": "stdout",
     "output_type": "stream",
     "text": [
      "[[   44     9    67 ... 18664 21078     1]\n",
      " [ 2657 16823     2 ...     8     1   221]\n",
      " [   14   272    35 ...   489  4286     2]\n",
      " ...\n",
      " [    9    65     3 ...    14    16    68]\n",
      " [    8  2615     4 ...  9983  8374    35]\n",
      " [ 2057  3950  2095 ...     0     0     0]] (35000, 128)\n"
     ]
    }
   ],
   "source": [
    "# Loading vectorized data\n",
    "TrainData = pd.read_csv('XTrainPreEmb.csv')\n",
    "TestData = pd.read_csv('XTestPreEmb.csv')\n",
    "del TrainData['Unnamed: 0']\n",
    "del TestData['Unnamed: 0']\n",
    "TrainData = TrainData.to_numpy()\n",
    "TestData = TestData.to_numpy()\n",
    "print(TrainData, TrainData.shape)"
   ]
  },
  {
   "cell_type": "code",
   "execution_count": 15,
   "id": "2cc80afa",
   "metadata": {},
   "outputs": [
    {
     "name": "stdout",
     "output_type": "stream",
     "text": [
      "[0 0 0 ... 0 0 1] (35000,)\n"
     ]
    }
   ],
   "source": [
    "# loading Y labels\n",
    "yTrain = pd.read_csv('yTrain.csv')\n",
    "yTest = pd.read_csv('yTest.csv')\n",
    "del yTrain['Unnamed: 0']\n",
    "del yTest['Unnamed: 0']\n",
    "yTrain = yTrain.to_numpy().reshape(-1)\n",
    "ytest = yTest.to_numpy().reshape(-1)\n",
    "print(yTrain, yTrain.shape)"
   ]
  },
  {
   "cell_type": "markdown",
   "id": "7aef65d0",
   "metadata": {},
   "source": [
    "# Explaining embedding layer"
   ]
  },
  {
   "cell_type": "markdown",
   "id": "f97108d8",
   "metadata": {},
   "source": [
    "The following Recurrent Neural Network will use an Embedding layer. This requires at least three parameters: input dim, output dim and input lenght. The first one is the size of the vocabulary, in other words, it is the number of words considered to create the vectorization or the number of possible categories that the variable can take (assuming word as a categorical variable)\n",
    "\n",
    "We're going to explain the third parameter before the second. This is the size of the input vector that is going to be processed in the layer. So remember we turn each text into a bunch of numbers, this are the indexes that represent each word. Also after this transformation, each movie review has only 128 numbers because they were truncated (longer than 128) or expanded (shorter than 128) with especial characters.\n",
    "\n",
    "The second parameter is the lenght of the output of this layer. A 128 lenght vector (128 words represented by integers) will enter into the embedding and they will converted into a new 100 numbers (each word into a 100 numbers).\n",
    "\n",
    "So, the wights of the embedding layers is a matrix of shape (input_dim, output_dim), this is total vocabulary, vector_lengh. This is like we are saying to the layer: distribute the meaning of each word (5000 in total) in 100 numbers (vector)."
   ]
  },
  {
   "cell_type": "code",
   "execution_count": 17,
   "id": "d2734a67",
   "metadata": {},
   "outputs": [],
   "source": [
    "# Building model\n",
    "model = keras.models.Sequential()\n",
    "model.add(keras.layers.Embedding(input_dim=5000, output_dim=100, input_length=128, trainable=True))\n",
    "model.compile('adam', 'mse')"
   ]
  },
  {
   "cell_type": "code",
   "execution_count": 22,
   "id": "a4831fc1",
   "metadata": {
    "scrolled": true
   },
   "outputs": [
    {
     "name": "stdout",
     "output_type": "stream",
     "text": [
      "128\n"
     ]
    },
    {
     "data": {
      "text/plain": [
       "array([   44,     9,    67,     6,   996,     3,    17, 41184,    10,\n",
       "          17,    49,    26,  1529,  1632,    45,     4,   700,   390,\n",
       "           9,    49,  1072,     7,    14,  1048,   114,  1632,   390,\n",
       "         379,   471,  1632,   390,   435,   471,  1632,   390,   112,\n",
       "        1632,   390,     7,     5,    14,   149,   306,   361,  1355,\n",
       "         173,   278,    27,  2855,    15,     3,   365,    94,    58,\n",
       "           3,   114,     2,   304,     3,    17,     7,     5,    33,\n",
       "        1812,     8,   100,  1576,  1074,    11,     9,    49,   235,\n",
       "         104,   318,  1298,   175,     3,   306,   361,    72,   104,\n",
       "          10,    17,   182,   137,     5,     6,    26,   283,    16,\n",
       "           1,  5922,     1,  5629,     8,     1,  8900,     5,    27,\n",
       "           4,     1,    87, 13066,   150,   131,   120,    89,     4,\n",
       "          29,     1, 20200,   308,  3162,  2977,  1959,    28,   231,\n",
       "          80, 22074,    64,  2494,   141,     2,  2508,     6, 18664,\n",
       "       21078,     1])"
      ]
     },
     "execution_count": 22,
     "metadata": {},
     "output_type": "execute_result"
    }
   ],
   "source": [
    "# Using the first review to explain\n",
    "print(len(TrainData[0]))\n",
    "TrainData[0]"
   ]
  },
  {
   "cell_type": "code",
   "execution_count": 26,
   "id": "ee678d01",
   "metadata": {},
   "outputs": [
    {
     "name": "stdout",
     "output_type": "stream",
     "text": [
      "4/4 [==============================] - 0s 3ms/step\n"
     ]
    },
    {
     "data": {
      "text/plain": [
       "(128, 100)"
      ]
     },
     "execution_count": 26,
     "metadata": {},
     "output_type": "execute_result"
    }
   ],
   "source": [
    "# Predicting\n",
    "yhat = model.predict(TrainData[0])\n",
    "yhat.shape"
   ]
  },
  {
   "cell_type": "markdown",
   "id": "7743a8c0",
   "metadata": {},
   "source": [
    "In the previous exercise we took the the first review which has 128 numbers as words and apply it embedding layer. We can see that the results is not a vector, it is a matrix because it generate 100 new values for each word, this is a matrix with dimensions (words, embedding). So, the first review starts with the word \"if\", it was replaced with the integer 44 and this integer is replaced with the 100-sized vector below. This numbers are just random, se we need to train them to obtain real embeddings."
   ]
  },
  {
   "cell_type": "code",
   "execution_count": 52,
   "id": "cb7dffc1",
   "metadata": {
    "scrolled": true
   },
   "outputs": [
    {
     "name": "stdout",
     "output_type": "stream",
     "text": [
      "100\n"
     ]
    },
    {
     "data": {
      "text/plain": [
       "array([ 0.00999587, -0.02474396, -0.00606691, -0.02921927,  0.02361541,\n",
       "       -0.04165374,  0.03124234, -0.04238681,  0.02807046, -0.02006915,\n",
       "        0.00010406, -0.04998368,  0.01660511,  0.01022235,  0.00172912,\n",
       "        0.04414826, -0.00776865,  0.01073672,  0.01838633,  0.01796745,\n",
       "        0.03231701, -0.04837611, -0.03205442,  0.02314628, -0.01869798,\n",
       "        0.04547398, -0.03823782, -0.0281237 ,  0.01298424,  0.02472458,\n",
       "        0.00785778, -0.03511266, -0.01214719,  0.00582762, -0.01444442,\n",
       "       -0.03441416, -0.02775677, -0.04945825,  0.02494426,  0.04398708,\n",
       "       -0.03621458,  0.03865832,  0.03553817, -0.03419012, -0.01983539,\n",
       "        0.01216161, -0.02481091,  0.020022  , -0.02701521, -0.01840409,\n",
       "        0.0055626 , -0.02893373,  0.02799876, -0.03119987,  0.01887668,\n",
       "        0.03477264, -0.04155242,  0.03319067, -0.01643298, -0.00826459,\n",
       "       -0.02254723, -0.01686613,  0.02122463,  0.03059036,  0.02885791,\n",
       "        0.03142967,  0.00674046,  0.04250219, -0.00104743,  0.04257821,\n",
       "       -0.02956622,  0.0310854 ,  0.04783816, -0.0178101 , -0.01300074,\n",
       "       -0.00340496, -0.01779377, -0.01397752, -0.0038402 ,  0.03394146,\n",
       "        0.01414175, -0.0152565 , -0.01206889, -0.02584691, -0.0227729 ,\n",
       "       -0.01811145, -0.03025855,  0.01230137, -0.04260683, -0.04752496,\n",
       "       -0.02998933,  0.03477116,  0.02031701,  0.02497161, -0.02857006,\n",
       "       -0.01980748,  0.0382386 , -0.00502076,  0.01772971, -0.00763686],\n",
       "      dtype=float32)"
      ]
     },
     "execution_count": 52,
     "metadata": {},
     "output_type": "execute_result"
    }
   ],
   "source": [
    "# Embedding for the fisrt word (44 - if)\n",
    "print(len(yhat[0]))\n",
    "yhat[0]"
   ]
  },
  {
   "cell_type": "markdown",
   "id": "9afd5b17",
   "metadata": {},
   "source": [
    "As we mention before, if we check the embedding weights of the layer it is a matrix of 5000x100, that means this layer has a vector of lenght 100 for every single word of the vocabulary previously defined. If we select the embedding number 44, we obtain the same vector predicted for the word 44."
   ]
  },
  {
   "cell_type": "code",
   "execution_count": 45,
   "id": "28a4e01a",
   "metadata": {},
   "outputs": [
    {
     "data": {
      "text/plain": [
       "(5000, 100)"
      ]
     },
     "execution_count": 45,
     "metadata": {},
     "output_type": "execute_result"
    }
   ],
   "source": [
    "# Weights for embedding layer\n",
    "model.get_weights()[0].shape"
   ]
  },
  {
   "cell_type": "code",
   "execution_count": 50,
   "id": "75247939",
   "metadata": {},
   "outputs": [
    {
     "data": {
      "text/plain": [
       "array([ 0.00999587, -0.02474396, -0.00606691, -0.02921927,  0.02361541,\n",
       "       -0.04165374,  0.03124234, -0.04238681,  0.02807046, -0.02006915,\n",
       "        0.00010406, -0.04998368,  0.01660511,  0.01022235,  0.00172912,\n",
       "        0.04414826, -0.00776865,  0.01073672,  0.01838633,  0.01796745,\n",
       "        0.03231701, -0.04837611, -0.03205442,  0.02314628, -0.01869798,\n",
       "        0.04547398, -0.03823782, -0.0281237 ,  0.01298424,  0.02472458,\n",
       "        0.00785778, -0.03511266, -0.01214719,  0.00582762, -0.01444442,\n",
       "       -0.03441416, -0.02775677, -0.04945825,  0.02494426,  0.04398708,\n",
       "       -0.03621458,  0.03865832,  0.03553817, -0.03419012, -0.01983539,\n",
       "        0.01216161, -0.02481091,  0.020022  , -0.02701521, -0.01840409,\n",
       "        0.0055626 , -0.02893373,  0.02799876, -0.03119987,  0.01887668,\n",
       "        0.03477264, -0.04155242,  0.03319067, -0.01643298, -0.00826459,\n",
       "       -0.02254723, -0.01686613,  0.02122463,  0.03059036,  0.02885791,\n",
       "        0.03142967,  0.00674046,  0.04250219, -0.00104743,  0.04257821,\n",
       "       -0.02956622,  0.0310854 ,  0.04783816, -0.0178101 , -0.01300074,\n",
       "       -0.00340496, -0.01779377, -0.01397752, -0.0038402 ,  0.03394146,\n",
       "        0.01414175, -0.0152565 , -0.01206889, -0.02584691, -0.0227729 ,\n",
       "       -0.01811145, -0.03025855,  0.01230137, -0.04260683, -0.04752496,\n",
       "       -0.02998933,  0.03477116,  0.02031701,  0.02497161, -0.02857006,\n",
       "       -0.01980748,  0.0382386 , -0.00502076,  0.01772971, -0.00763686],\n",
       "      dtype=float32)"
      ]
     },
     "execution_count": 50,
     "metadata": {},
     "output_type": "execute_result"
    }
   ],
   "source": [
    "model.get_weights()[0][44]"
   ]
  },
  {
   "cell_type": "markdown",
   "id": "1365b32f",
   "metadata": {},
   "source": [
    "# Training LSTM"
   ]
  },
  {
   "cell_type": "code",
   "execution_count": 64,
   "id": "06558cd4",
   "metadata": {},
   "outputs": [
    {
     "name": "stdout",
     "output_type": "stream",
     "text": [
      "Model: \"sequential_3\"\n",
      "_________________________________________________________________\n",
      " Layer (type)                Output Shape              Param #   \n",
      "=================================================================\n",
      " embedding_2 (Embedding)     (None, 128, 100)          500000    \n",
      "                                                                 \n",
      " lstm_2 (LSTM)               (None, 128, 100)          80400     \n",
      "                                                                 \n",
      " lstm_3 (LSTM)               (None, 100)               80400     \n",
      "                                                                 \n",
      " dense_1 (Dense)             (None, 1)                 101       \n",
      "                                                                 \n",
      "=================================================================\n",
      "Total params: 660,901\n",
      "Trainable params: 660,901\n",
      "Non-trainable params: 0\n",
      "_________________________________________________________________\n"
     ]
    }
   ],
   "source": [
    "# Bulding architecture\n",
    "model = keras.models.Sequential()\n",
    "model.add(keras.layers.Embedding(input_dim=5000, output_dim=100, input_length=128, trainable=True))\n",
    "model.add(keras.layers.LSTM(100, dropout=0.2, return_sequences=True))\n",
    "model.add(keras.layers.LSTM(100, dropout=0.2))\n",
    "model.add(keras.layers.Dense(1, activation='sigmoid'))\n",
    "model.summary()"
   ]
  },
  {
   "cell_type": "code",
   "execution_count": 65,
   "id": "437ed871",
   "metadata": {},
   "outputs": [],
   "source": [
    "# Compiling\n",
    "model.compile(loss='binary_crossentropy', optimizer='adam', metrics=['accuracy'])"
   ]
  },
  {
   "cell_type": "code",
   "execution_count": 66,
   "id": "ab2bf707",
   "metadata": {},
   "outputs": [
    {
     "name": "stdout",
     "output_type": "stream",
     "text": [
      "Epoch 1/5\n",
      "1094/1094 [==============================] - 93s 82ms/step - loss: 0.5472 - accuracy: 0.7180 - val_loss: 0.5226 - val_accuracy: 0.7606\n",
      "Epoch 2/5\n",
      "1094/1094 [==============================] - 84s 77ms/step - loss: 0.5735 - accuracy: 0.7069 - val_loss: 0.4492 - val_accuracy: 0.8011\n",
      "Epoch 3/5\n",
      "1094/1094 [==============================] - 82s 75ms/step - loss: 0.4577 - accuracy: 0.7765 - val_loss: 0.3862 - val_accuracy: 0.8335\n",
      "Epoch 4/5\n",
      "1094/1094 [==============================] - 82s 75ms/step - loss: 0.3380 - accuracy: 0.8564 - val_loss: 0.3841 - val_accuracy: 0.8369\n",
      "Epoch 5/5\n",
      "1094/1094 [==============================] - 82s 75ms/step - loss: 0.3020 - accuracy: 0.8751 - val_loss: 0.3479 - val_accuracy: 0.8495\n"
     ]
    }
   ],
   "source": [
    "# Training\n",
    "history = model.fit(TrainData, yTrain, epochs=5, batch_size=32, validation_data=(TestData, yTest))"
   ]
  },
  {
   "cell_type": "code",
   "execution_count": 67,
   "id": "c6e48377",
   "metadata": {},
   "outputs": [
    {
     "data": {
      "text/plain": [
       "<matplotlib.legend.Legend at 0x3c02b6040>"
      ]
     },
     "execution_count": 67,
     "metadata": {},
     "output_type": "execute_result"
    },
    {
     "data": {
      "image/png": "[encoded data removed]",
      "text/plain": [
       "<Figure size 640x480 with 1 Axes>"
      ]
     },
     "metadata": {},
     "output_type": "display_data"
    }
   ],
   "source": [
    "# Plotting loss\n",
    "plt.plot(history.history['loss'], label='train_loss')\n",
    "plt.plot(history.history['val_loss'], label='val_loss')\n",
    "plt.legend(loc='best')"
   ]
  },
  {
   "cell_type": "code",
   "execution_count": 74,
   "id": "85d5ac68",
   "metadata": {},
   "outputs": [
    {
     "name": "stdout",
     "output_type": "stream",
     "text": [
      "469/469 [==============================] - 15s 31ms/step\n",
      "[[1]\n",
      " [1]\n",
      " [0]\n",
      " ...\n",
      " [1]\n",
      " [0]\n",
      " [1]]\n"
     ]
    }
   ],
   "source": [
    "# Prediction with test data\n",
    "yhat = model.predict(TestData)\n",
    "yhat = np.where(yhat >= 0.5, 1, 0)\n",
    "print(yhat)"
   ]
  },
  {
   "cell_type": "code",
   "execution_count": 75,
   "id": "a1e2093e",
   "metadata": {},
   "outputs": [
    {
     "name": "stdout",
     "output_type": "stream",
     "text": [
      "              precision    recall  f1-score   support\n",
      "\n",
      "           0       0.83      0.89      0.85      7481\n",
      "           1       0.88      0.81      0.84      7519\n",
      "\n",
      "    accuracy                           0.85     15000\n",
      "   macro avg       0.85      0.85      0.85     15000\n",
      "weighted avg       0.85      0.85      0.85     15000\n",
      "\n"
     ]
    }
   ],
   "source": [
    "# Evaluating performance\n",
    "print(classification_report(yTest, yhat))"
   ]
  },
  {
   "cell_type": "code",
   "execution_count": null,
   "id": "e9fa92bd",
   "metadata": {},
   "outputs": [],
   "source": []
  }
 ],
 "metadata": {
  "kernelspec": {
   "display_name": "Python 3 (ipykernel)",
   "language": "python",
   "name": "python3"
  },
  "language_info": {
   "codemirror_mode": {
    "name": "ipython",
    "version": 3
   },
   "file_extension": ".py",
   "mimetype": "text/x-python",
   "name": "python",
   "nbconvert_exporter": "python",
   "pygments_lexer": "ipython3",
   "version": "3.9.7"
  }
 },
 "nbformat": 4,
 "nbformat_minor": 5
}
