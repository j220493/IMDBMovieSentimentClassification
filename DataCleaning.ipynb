{
 "cells": [
  {
   "cell_type": "code",
   "execution_count": 2,
   "id": "83080cfd",
   "metadata": {},
   "outputs": [
    {
     "name": "stdout",
     "output_type": "stream",
     "text": [
      "Collecting git+https://github.com/laxmimerit/preprocess_kgptalkie.git\n",
      "  Cloning https://github.com/laxmimerit/preprocess_kgptalkie.git to /private/var/folders/62/nrb2x8tn6nl1qtqn66_155fc0000gn/T/pip-req-build-52cdfsva\n",
      "  Running command git clone --filter=blob:none --quiet https://github.com/laxmimerit/preprocess_kgptalkie.git /private/var/folders/62/nrb2x8tn6nl1qtqn66_155fc0000gn/T/pip-req-build-52cdfsva\n",
      "  Resolved https://github.com/laxmimerit/preprocess_kgptalkie.git to commit 9ca68d37027af9f6a30d54640347ce3b2e2694b3\n",
      "  Preparing metadata (setup.py) ... \u001b[?25ldone\n",
      "\u001b[?25hBuilding wheels for collected packages: preprocess-kgptalkie\n",
      "  Building wheel for preprocess-kgptalkie (setup.py) ... \u001b[?25ldone\n",
      "\u001b[?25h  Created wheel for preprocess-kgptalkie: filename=preprocess_kgptalkie-0.1.3-py3-none-any.whl size=7620 sha256=277524f0c90edabbe99b2e67439b9049113a4537d1d0edd5468d44f019a50090\n",
      "  Stored in directory: /private/var/folders/62/nrb2x8tn6nl1qtqn66_155fc0000gn/T/pip-ephem-wheel-cache-32dq70fn/wheels/d1/c3/bb/559fe93e652b51cbc532f17e9693f3b70055f8560cf06c1fb3\n",
      "Successfully built preprocess-kgptalkie\n",
      "Installing collected packages: preprocess-kgptalkie\n",
      "Successfully installed preprocess-kgptalkie-0.1.3\n"
     ]
    }
   ],
   "source": [
    "# Installing libraries\n",
    "!pip install git+https://github.com/laxmimerit/preprocess_kgptalkie.git --upgrade --force-reinstall\n",
    "!pip install spacy\n",
    "!pip install textblob\n",
    "!python -m spacy download en_core_web_sm"
   ]
  },
  {
   "cell_type": "code",
   "execution_count": 17,
   "id": "41c56067",
   "metadata": {},
   "outputs": [],
   "source": [
    "# Libraries\n",
    "import dotenv\n",
    "import os\n",
    "from zipfile import ZipFile\n",
    "import pandas as pd\n",
    "import seaborn as sns\n",
    "import nltk\n",
    "from nltk.probability import FreqDist\n",
    "import preprocess_kgptalkie as ps\n",
    "import re\n",
    "from sklearn.model_selection import train_test_split\n",
    "from sklearn.feature_extraction.text import CountVectorizer\n",
    "from sklearn.feature_extraction.text import TfidfVectorizer"
   ]
  },
  {
   "cell_type": "code",
   "execution_count": 33,
   "id": "7ebc9af8",
   "metadata": {},
   "outputs": [
    {
     "name": "stdout",
     "output_type": "stream",
     "text": [
      "odict_keys(['usr', 'pwd'])\n"
     ]
    }
   ],
   "source": [
    "# Importing credentials\n",
    "envVar = dotenv.dotenv_values('.env')\n",
    "print(envVar.keys())"
   ]
  },
  {
   "cell_type": "code",
   "execution_count": 34,
   "id": "62cf1874",
   "metadata": {},
   "outputs": [
    {
     "name": "stdout",
     "output_type": "stream",
     "text": [
      "Downloading imdb-dataset-of-50k-movie-reviews.zip to /Users/macbookpro/Documents/DeepLearning/MovieSentimentClassification/IMDBMovieSentimentClassification\n",
      " 97%|████████████████████████████████████▉ | 25.0M/25.7M [00:01<00:00, 20.0MB/s]\n",
      "100%|██████████████████████████████████████| 25.7M/25.7M [00:01<00:00, 15.6MB/s]\n"
     ]
    }
   ],
   "source": [
    "# Setting kaggle credentials and downloading dataset\n",
    "os.environ['KAGGLE_USERNAME'] = envVar['usr']\n",
    "os.environ['KAGGLE_KEY'] = envVar['pwd']\n",
    "!kaggle datasets download -d lakshmi25npathi/imdb-dataset-of-50k-movie-reviews"
   ]
  },
  {
   "cell_type": "code",
   "execution_count": 35,
   "id": "530b63d0",
   "metadata": {},
   "outputs": [
    {
     "name": "stdout",
     "output_type": "stream",
     "text": [
      "done\n"
     ]
    }
   ],
   "source": [
    "# Unzipping data\n",
    "path = 'imdb-dataset-of-50k-movie-reviews.zip'\n",
    "with ZipFile(path, 'r') as zip:\n",
    "    zip.extractall()\n",
    "    print('done')"
   ]
  },
  {
   "cell_type": "code",
   "execution_count": 2,
   "id": "bd30c6de",
   "metadata": {},
   "outputs": [
    {
     "data": {
      "text/html": [
       "<div>\n",
       "<style scoped>\n",
       "    .dataframe tbody tr th:only-of-type {\n",
       "        vertical-align: middle;\n",
       "    }\n",
       "\n",
       "    .dataframe tbody tr th {\n",
       "        vertical-align: top;\n",
       "    }\n",
       "\n",
       "    .dataframe thead th {\n",
       "        text-align: right;\n",
       "    }\n",
       "</style>\n",
       "<table border=\"1\" class=\"dataframe\">\n",
       "  <thead>\n",
       "    <tr style=\"text-align: right;\">\n",
       "      <th></th>\n",
       "      <th>review</th>\n",
       "      <th>sentiment</th>\n",
       "    </tr>\n",
       "  </thead>\n",
       "  <tbody>\n",
       "    <tr>\n",
       "      <th>0</th>\n",
       "      <td>One of the other reviewers has mentioned that ...</td>\n",
       "      <td>positive</td>\n",
       "    </tr>\n",
       "    <tr>\n",
       "      <th>1</th>\n",
       "      <td>A wonderful little production. &lt;br /&gt;&lt;br /&gt;The...</td>\n",
       "      <td>positive</td>\n",
       "    </tr>\n",
       "    <tr>\n",
       "      <th>2</th>\n",
       "      <td>I thought this was a wonderful way to spend ti...</td>\n",
       "      <td>positive</td>\n",
       "    </tr>\n",
       "    <tr>\n",
       "      <th>3</th>\n",
       "      <td>Basically there's a family where a little boy ...</td>\n",
       "      <td>negative</td>\n",
       "    </tr>\n",
       "    <tr>\n",
       "      <th>4</th>\n",
       "      <td>Petter Mattei's \"Love in the Time of Money\" is...</td>\n",
       "      <td>positive</td>\n",
       "    </tr>\n",
       "  </tbody>\n",
       "</table>\n",
       "</div>"
      ],
      "text/plain": [
       "                                              review sentiment\n",
       "0  One of the other reviewers has mentioned that ...  positive\n",
       "1  A wonderful little production. <br /><br />The...  positive\n",
       "2  I thought this was a wonderful way to spend ti...  positive\n",
       "3  Basically there's a family where a little boy ...  negative\n",
       "4  Petter Mattei's \"Love in the Time of Money\" is...  positive"
      ]
     },
     "execution_count": 2,
     "metadata": {},
     "output_type": "execute_result"
    }
   ],
   "source": [
    "# Reading data as df\n",
    "df = pd.read_csv('IMDB Dataset.csv')\n",
    "df.head()"
   ]
  },
  {
   "cell_type": "code",
   "execution_count": 13,
   "id": "c5a7608b",
   "metadata": {},
   "outputs": [
    {
     "data": {
      "text/plain": [
       "<Axes: >"
      ]
     },
     "execution_count": 13,
     "metadata": {},
     "output_type": "execute_result"
    },
    {
     "data": {
      "image/png": "[encoded data removed]",
      "text/plain": [
       "<Figure size 640x480 with 1 Axes>"
      ]
     },
     "metadata": {},
     "output_type": "display_data"
    }
   ],
   "source": [
    "# Checking data balance\n",
    "sns.barplot(x=['Positive', 'Negative'], y=df['sentiment'].value_counts().values)"
   ]
  },
  {
   "cell_type": "code",
   "execution_count": 15,
   "id": "040f7ab2",
   "metadata": {},
   "outputs": [
    {
     "data": {
      "text/plain": [
       "<Axes: xlabel='review', ylabel='Count'>"
      ]
     },
     "execution_count": 15,
     "metadata": {},
     "output_type": "execute_result"
    },
    {
     "data": {
      "image/png": "[encoded data removed]",
      "text/plain": [
       "<Figure size 640x480 with 1 Axes>"
      ]
     },
     "metadata": {},
     "output_type": "display_data"
    }
   ],
   "source": [
    "# words distribution\n",
    "count = df['review'].apply(lambda x: len(x))\n",
    "sns.histplot(count)"
   ]
  },
  {
   "cell_type": "code",
   "execution_count": 25,
   "id": "b1ee03b7",
   "metadata": {},
   "outputs": [],
   "source": [
    "# Preprocessing function\n",
    "def get_clean(x):\n",
    "    x = str(x).lower().replace('\\\\', '').replace('_', ' ')\n",
    "    x = ps.cont_exp(x)\n",
    "    x = ps.remove_emails(x)\n",
    "    x = ps.remove_urls(x)\n",
    "    # x = ps.remove_html_tags(x)\n",
    "    x = ps.remove_accented_chars(x)\n",
    "    x = ps.remove_special_chars(x)\n",
    "    x = re.sub(\"(.)\\\\1{2,}\", \"\\\\1\", x)\n",
    "    x = re.sub(r'br br', '', x)\n",
    "    return x"
   ]
  },
  {
   "cell_type": "code",
   "execution_count": 26,
   "id": "d6e9e1f4",
   "metadata": {},
   "outputs": [],
   "source": [
    "# Cleaning reviews\n",
    "df['review'] = df['review'].apply(lambda x: get_clean(x))\n",
    "df.head(20)"
   ]
  },
  {
   "cell_type": "code",
   "execution_count": 41,
   "id": "cceb2202",
   "metadata": {},
   "outputs": [
    {
     "data": {
      "text/plain": [
       "[('the', 664222),\n",
       " ('and', 323357),\n",
       " ('a', 320762),\n",
       " ('of', 288690),\n",
       " ('is', 272649),\n",
       " ('to', 266963),\n",
       " ('it', 188273),\n",
       " ('in', 185254),\n",
       " ('i', 172744),\n",
       " ('this', 149920),\n",
       " ('that', 144431),\n",
       " ('not', 116294),\n",
       " ('was', 99858),\n",
       " ('as', 91289),\n",
       " ('with', 87003),\n",
       " ('for', 86861),\n",
       " ('movie', 85224),\n",
       " ('but', 81778),\n",
       " ('film', 76029),\n",
       " ('on', 69342)]"
      ]
     },
     "execution_count": 41,
     "metadata": {},
     "output_type": "execute_result"
    }
   ],
   "source": [
    "# most frequent words\n",
    "stackedReviews = ' '.join(df['review'].astype(str))\n",
    "stackedReviews = re.split(' ', stackedReviews)\n",
    "fdist = FreqDist(stackedReviews)\n",
    "fdist.most_common(20)"
   ]
  },
  {
   "cell_type": "code",
   "execution_count": 42,
   "id": "171e4189",
   "metadata": {},
   "outputs": [
    {
     "data": {
      "image/png": "[encoded data removed]",
      "text/plain": [
       "<Figure size 640x480 with 1 Axes>"
      ]
     },
     "metadata": {},
     "output_type": "display_data"
    },
    {
     "data": {
      "text/plain": [
       "<Axes: xlabel='Samples', ylabel='Counts'>"
      ]
     },
     "execution_count": 42,
     "metadata": {},
     "output_type": "execute_result"
    }
   ],
   "source": [
    "# Freq plot\n",
    "fdist.plot(20)"
   ]
  },
  {
   "cell_type": "code",
   "execution_count": 44,
   "id": "a8accb2c",
   "metadata": {},
   "outputs": [],
   "source": [
    "# Exporting data\n",
    "df.to_csv('IMDBReviewsCleanned.csv')"
   ]
  },
  {
   "cell_type": "code",
   "execution_count": null,
   "id": "e53a75ce",
   "metadata": {},
   "outputs": [],
   "source": []
  }
 ],
 "metadata": {
  "kernelspec": {
   "display_name": "Python 3 (ipykernel)",
   "language": "python",
   "name": "python3"
  },
  "language_info": {
   "codemirror_mode": {
    "name": "ipython",
    "version": 3
   },
   "file_extension": ".py",
   "mimetype": "text/x-python",
   "name": "python",
   "nbconvert_exporter": "python",
   "pygments_lexer": "ipython3",
   "version": "3.9.7"
  }
 },
 "nbformat": 4,
 "nbformat_minor": 5
}
